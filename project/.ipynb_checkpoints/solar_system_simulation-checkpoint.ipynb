{
 "cells": [
  {
   "cell_type": "code",
   "execution_count": null,
   "id": "49415e6b",
   "metadata": {},
   "outputs": [],
   "source": [
    "import rebound\n",
    "import matplotlib.pyplot as plt\n",
    "import numpy as np\n",
    "from matplotlib.animation import FuncAnimation"
   ]
  },
  {
   "cell_type": "code",
   "execution_count": null,
   "id": "c12ca5a3",
   "metadata": {},
   "outputs": [],
   "source": [
    "sim = rebound.Simulation()\n",
    "sim.units = ('yr', 'AU', 'Msun')"
   ]
  },
  {
   "cell_type": "code",
   "execution_count": null,
   "id": "d0829ec0",
   "metadata": {},
   "outputs": [],
   "source": [
    "sim.add(m=1.)  # Central star of mass m = Msun\n",
    "sim.add(m=1.65e-7, a=0.387, e=0.21)  # First planet, p1\n",
    "sim.add(m=2.45e-6, a=0.72, e=0.07)  # Second planet, p2\n",
    "sim.add(m=3e-6, a=1, e=0.02)\n",
    "sim.add(m=3.2e-7, a=1.52, e=0.1)\n",
    "sim.add(m=9.5e-4, a=5.2, e=0.05)\n",
    "sim.add(m=2.86e-4, a=9.5, e=0.05)\n",
    "sim.add(m=4.4e-5, a=19.2, e=0.05)\n",
    "sim.add(m=5.15e-5, a=30.1, e=0.01)"
   ]
  },
  {
   "cell_type": "code",
   "execution_count": null,
   "id": "acfcaa56",
   "metadata": {},
   "outputs": [],
   "source": [
    "num_timesteps = 900\n",
    "num_years = 20\n",
    "times = np.linspace(0, num_years, num_timesteps)  # timesteps of 0.1 yr over 500 yr\n",
    "\n",
    "# Creating the lists of arrays which will store the three position \n",
    "# coordinates of both planets for the above time range\n",
    "sun_x = np.empty(num_timesteps)\n",
    "sun_y = np.empty(num_timesteps)\n",
    "sun_z = np.empty(num_timesteps)\n",
    "sun_coords = [sun_x, sun_y, sun_z]\n",
    "\n",
    "p1_x = np.empty(num_timesteps)\n",
    "p1_y = np.empty(num_timesteps)\n",
    "p1_z = np.empty(num_timesteps)\n",
    "p1_coords = [p1_x, p1_y, p1_z]\n",
    "\n",
    "p2_x = np.empty(num_timesteps)\n",
    "p2_y = np.empty(num_timesteps)\n",
    "p2_z = np.empty(num_timesteps)\n",
    "p2_coords = [p2_x, p2_y, p2_z]\n",
    "\n",
    "p3_x = np.empty(num_timesteps)\n",
    "p3_y = np.empty(num_timesteps)\n",
    "p3_z = np.empty(num_timesteps)\n",
    "p3_coords = [p3_x, p3_y, p3_z]\n",
    "\n",
    "p4_x = np.empty(num_timesteps)\n",
    "p4_y = np.empty(num_timesteps)\n",
    "p4_z = np.empty(num_timesteps)\n",
    "p4_coords = [p4_x, p4_y, p4_z]\n",
    "\n",
    "p5_x = np.empty(num_timesteps)\n",
    "p5_y = np.empty(num_timesteps)\n",
    "p5_z = np.empty(num_timesteps)\n",
    "p5_coords = [p5_x, p5_y, p5_z]\n",
    "\n",
    "p6_x = np.empty(num_timesteps)\n",
    "p6_y = np.empty(num_timesteps)\n",
    "p6_z = np.empty(num_timesteps)\n",
    "p6_coords = [p6_x, p6_y, p6_z]\n",
    "\n",
    "p7_x = np.empty(num_timesteps)\n",
    "p7_y = np.empty(num_timesteps)\n",
    "p7_z = np.empty(num_timesteps)\n",
    "p7_coords = [p7_x, p7_y, p7_z]\n",
    "\n",
    "p8_x = np.empty(num_timesteps)\n",
    "p8_y = np.empty(num_timesteps)\n",
    "p8_z = np.empty(num_timesteps)\n",
    "p8_coords = [p8_x, p8_y, p8_z]\n",
    "\n",
    "planet_coords = [sun_coords, p1_coords, p2_coords, p3_coords, p4_coords, p5_coords, p6_coords, p7_coords, p8_coords]\n",
    "\n",
    "for timestep in range(num_timesteps):  # looping over number of timesteps\n",
    "    sim.integrate((timestep * num_years) / num_timesteps)\n",
    "    for i in range(len(sim.particles)):  \n",
    "        planet_coords[i][0][timestep] = sim.particles[i].x\n",
    "        planet_coords[i][1][timestep] = sim.particles[i].y\n",
    "        planet_coords[i][2][timestep] = sim.particles[i].z\n",
    "\n",
    "body_names = ['Sun', 'Mercury', 'Venus', 'Earth', 'Mars', 'Jupiter', 'Saturn', 'Uranus', 'Neptune']\n",
    "body_colours = ['#fffa73', '#d3d3d3', '#c1c55b', '#273aa9', '#c02224', '#f2e368', '#bdb34d', '#9df9f9', '#0038df']"
   ]
  },
  {
   "cell_type": "code",
   "execution_count": null,
   "id": "c957169e",
   "metadata": {},
   "outputs": [],
   "source": [
    "%matplotlib notebook"
   ]
  },
  {
   "cell_type": "code",
   "execution_count": null,
   "id": "067b56d8",
   "metadata": {},
   "outputs": [],
   "source": [
    "# USE IF YOU WANT TO CENTRE THE ANIMATION ON THE SUN\n",
    "x_diff = sun_coords[0][:]\n",
    "y_diff = sun_coords[1][:]\n",
    "for i in range(len(planet_coords)):\n",
    "    planet_coords[i][0] = np.subtract(planet_coords[i][0], x_diff)\n",
    "    planet_coords[i][1] = np.subtract(planet_coords[i][1], y_diff)"
   ]
  },
  {
   "cell_type": "code",
   "execution_count": null,
   "id": "6df0b8d8",
   "metadata": {},
   "outputs": [],
   "source": [
    "x_max, x_min, y_max, y_min = 0, 0, 0, 0\n",
    "for planet in planet_coords:\n",
    "    x_max = max(x_max, np.max(planet[0]))\n",
    "    x_min = min(x_min, np.min(planet[0]))\n",
    "    y_max = max(y_max, np.max(planet[1]))\n",
    "    y_min = min(y_min, np.min(planet[1]))\n",
    "x_max, x_min, y_max, y_min = x_max+1, x_min-1, y_max+1, y_min-1"
   ]
  },
  {
   "cell_type": "code",
   "execution_count": null,
   "id": "c5e4ab31",
   "metadata": {},
   "outputs": [],
   "source": [
    "fig, ax = plt.subplots()\n",
    "line, = ax.plot([])"
   ]
  },
  {
   "cell_type": "code",
   "execution_count": null,
   "id": "485d42c2",
   "metadata": {},
   "outputs": [],
   "source": [
    "def animate(num):\n",
    "    plt.clf()\n",
    "    for i in range(len(sim.particles)):\n",
    "        line = plt.plot(planet_coords[i][0][: num + 1], \n",
    "                 planet_coords[i][1][: num + 1], color=body_colours[i])  # plots trajectory\n",
    "        plt.scatter(planet_coords[i][0][num], \n",
    "                    planet_coords[i][1][num], color=body_colours[i])  # plots current position\n",
    "        plt.annotate(body_names[i], (planet_coords[i][0][num], \n",
    "                    planet_coords[i][1][num]))\n",
    "    plt.xlabel(\"x-position / AU\")\n",
    "    plt.ylabel(\"y-position / AU\")\n",
    "    plt.title(\"x-y Trajectories of Planets \\n Year: \" + str(round(10 * num_years * num / num_timesteps) / 10))\n",
    "#     plt.xlim(x_min, x_max)\n",
    "#     plt.ylim(y_min, y_max)\n",
    "    return line"
   ]
  },
  {
   "cell_type": "code",
   "execution_count": null,
   "id": "b4046b35",
   "metadata": {},
   "outputs": [],
   "source": [
    "anim = FuncAnimation(fig, animate, frames=num_timesteps, interval=0.1)\n",
    "# plt.show()"
   ]
  },
  {
   "cell_type": "code",
   "execution_count": null,
   "id": "4707d1ff",
   "metadata": {},
   "outputs": [],
   "source": [
    "# import os.path\n",
    "# import matplotlib.animation as animation\n",
    "# save_path = \"/mnt/scratch-lustre/student20/CTA200_2022/project/solar_system_centred.gif\"\n",
    "# writergif = animation.PillowWriter(fps=num_timesteps/30)\n",
    "# anim.save(save_path, writer=writergif)"
   ]
  },
  {
   "cell_type": "code",
   "execution_count": null,
   "id": "21fc14e1",
   "metadata": {},
   "outputs": [],
   "source": []
  }
 ],
 "metadata": {
  "kernelspec": {
   "display_name": "Python 3 (ipykernel)",
   "language": "python",
   "name": "python3"
  },
  "language_info": {
   "codemirror_mode": {
    "name": "ipython",
    "version": 3
   },
   "file_extension": ".py",
   "mimetype": "text/x-python",
   "name": "python",
   "nbconvert_exporter": "python",
   "pygments_lexer": "ipython3",
   "version": "3.10.2"
  }
 },
 "nbformat": 4,
 "nbformat_minor": 5
}
