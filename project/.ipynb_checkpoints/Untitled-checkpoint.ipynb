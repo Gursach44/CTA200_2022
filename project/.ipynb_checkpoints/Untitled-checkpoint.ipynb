{
 "cells": [
  {
   "cell_type": "code",
   "execution_count": 10,
   "id": "49415e6b",
   "metadata": {},
   "outputs": [],
   "source": [
    "import rebound\n",
    "import matplotlib as plt"
   ]
  },
  {
   "cell_type": "code",
   "execution_count": 11,
   "id": "c12ca5a3",
   "metadata": {},
   "outputs": [],
   "source": [
    "sim = rebound.Simulation()\n",
    "sim.G = 6.6743e-11  # m^3\n",
    "# have to change G so that mass units are in Msun, time in years, and distance in AU. \n",
    "# Find relation between G, M, D, and t and isolate for G, then set other quantities as above?"
   ]
  },
  {
   "cell_type": "code",
   "execution_count": null,
   "id": "c3da0749",
   "metadata": {},
   "outputs": [],
   "source": []
  }
 ],
 "metadata": {
  "kernelspec": {
   "display_name": "Python 3 (ipykernel)",
   "language": "python",
   "name": "python3"
  },
  "language_info": {
   "codemirror_mode": {
    "name": "ipython",
    "version": 3
   },
   "file_extension": ".py",
   "mimetype": "text/x-python",
   "name": "python",
   "nbconvert_exporter": "python",
   "pygments_lexer": "ipython3",
   "version": "3.10.2"
  }
 },
 "nbformat": 4,
 "nbformat_minor": 5
}
