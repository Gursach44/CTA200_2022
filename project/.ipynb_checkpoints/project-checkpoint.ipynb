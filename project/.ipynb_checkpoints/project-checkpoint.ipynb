{
 "cells": [
  {
   "cell_type": "markdown",
   "id": "780d080f",
   "metadata": {},
   "source": [
    "# RV Fitting Project\n",
    "May 16, 2022\n",
    "\n",
    "Gurman Sachdeva\n",
    "\n",
    "1007896314"
   ]
  },
  {
   "cell_type": "markdown",
   "id": "93d22b84",
   "metadata": {},
   "source": [
    "## 1. Using $\\texttt{REBOUND}$"
   ]
  },
  {
   "cell_type": "code",
   "execution_count": null,
   "id": "49415e6b",
   "metadata": {},
   "outputs": [],
   "source": [
    "import rebound\n",
    "import matplotlib.pyplot as plt\n",
    "import numpy as np"
   ]
  },
  {
   "cell_type": "code",
   "execution_count": null,
   "id": "c12ca5a3",
   "metadata": {},
   "outputs": [],
   "source": [
    "sim = rebound.Simulation()\n",
    "sim.units = ('yr', 'AU', 'Msun')"
   ]
  },
  {
   "cell_type": "code",
   "execution_count": null,
   "id": "d0829ec0",
   "metadata": {},
   "outputs": [],
   "source": [
    "sim.add(m=1.)  # Central star of mass m = Msun\n",
    "sim.add(m=1e-3, a=5.2, e=0.05)  # First planet, p1\n",
    "sim.add(m=3e-4, a=9.6, e=0.05)  # Second planet, p2"
   ]
  },
  {
   "cell_type": "code",
   "execution_count": null,
   "id": "acfcaa56",
   "metadata": {},
   "outputs": [],
   "source": [
    "num_timesteps = 10000\n",
    "num_years = 500\n",
    "times = np.linspace(0, num_years, num_timesteps)  # timesteps of 0.05 yr over 500 yr\n",
    "\n",
    "# Creating the lists of arrays which will store the three position \n",
    "# coordinates of both planets for the above time range\n",
    "\n",
    "p1_x = np.empty(num_timesteps)\n",
    "p1_y = np.empty(num_timesteps)\n",
    "p1_axis = np.empty(num_timesteps)\n",
    "p1_ecc = np.empty(num_timesteps)\n",
    "p1_data = [p1_x, p1_y, p1_axis, p1_ecc]\n",
    "\n",
    "p2_x = np.empty(num_timesteps)\n",
    "p2_y = np.empty(num_timesteps)\n",
    "p2_axis = np.empty(num_timesteps)\n",
    "p2_ecc = np.empty(num_timesteps)\n",
    "p2_data = [p2_x, p2_y, p2_axis, p2_ecc]\n",
    "\n",
    "planet_data = [p1_data, p2_data]\n",
    "\n",
    "for timestep in range(num_timesteps):  # looping over number of timesteps\n",
    "    sim.integrate((timestep * num_years) / num_timesteps)\n",
    "    for i in range(len(planet_data)):  \n",
    "        planet_data[i][0][timestep] = sim.particles[i+1].x\n",
    "        planet_data[i][1][timestep] = sim.particles[i+1].y\n",
    "        planet_data[i][2][timestep] = sim.particles[i+1].a\n",
    "        planet_data[i][3][timestep] = sim.particles[i+1].e\n",
    "\n",
    "body_names = ['Planet 1', 'Planet 2']\n",
    "body_colours = ['#d3d3d3', '#273aa9']"
   ]
  },
  {
   "cell_type": "code",
   "execution_count": null,
   "id": "c957169e",
   "metadata": {},
   "outputs": [],
   "source": [
    "plt.figure()\n",
    "for i in range(len(planet_data)):\n",
    "    plt.plot(planet_data[i][0], planet_data[i][1], label=f'Planet {i+1}')\n",
    "plt.legend(loc='upper right')\n",
    "plt.xlabel('x-position / AU')\n",
    "plt.ylabel('y-position / AU')\n",
    "plt.title('x-y Trajectories of Planets')\n",
    "plt.savefig(\"q1f1.pdf\")"
   ]
  },
  {
   "cell_type": "code",
   "execution_count": null,
   "id": "9340d765",
   "metadata": {},
   "outputs": [],
   "source": [
    "plt.figure()\n",
    "plt.plot(times, planet_data[0][2])\n",
    "plt.xlabel('Time / yr')\n",
    "plt.ylabel('Semi-major Axis / AU')\n",
    "plt.title('Planet 1 Semi-major Axis over Time')\n",
    "plt.savefig(\"q1f2.pdf\")"
   ]
  },
  {
   "cell_type": "code",
   "execution_count": null,
   "id": "3e84172e",
   "metadata": {},
   "outputs": [],
   "source": [
    "plt.figure()\n",
    "plt.plot(times, planet_data[1][2])\n",
    "plt.xlabel('Time / yr')\n",
    "plt.ylabel('Semi-major Axis / AU')\n",
    "plt.title('Planet 2 Semi-major Axis over Time')\n",
    "plt.savefig(\"q1f3.pdf\")"
   ]
  },
  {
   "cell_type": "code",
   "execution_count": null,
   "id": "cb0915d4",
   "metadata": {},
   "outputs": [],
   "source": [
    "plt.figure()\n",
    "plt.plot(times, planet_data[0][3])\n",
    "plt.xlabel('Time / yr')\n",
    "plt.ylabel('Eccentricity (unitless)')\n",
    "plt.title('Planet 1 Eccentricity over Time')\n",
    "plt.savefig(\"q1f4.pdf\")"
   ]
  },
  {
   "cell_type": "code",
   "execution_count": null,
   "id": "bc9cf3cd",
   "metadata": {},
   "outputs": [],
   "source": [
    "plt.figure()\n",
    "plt.plot(times, planet_data[1][3])\n",
    "plt.xlabel('Time / yr')\n",
    "plt.ylabel('Eccentricity (unitless)')\n",
    "plt.title('Planet 2 Eccentricity over Time')\n",
    "plt.savefig(\"q1f5.pdf\")"
   ]
  },
  {
   "cell_type": "markdown",
   "id": "04d85534",
   "metadata": {},
   "source": [
    "## 2. Making a Synthetic RV Curve and Understanding RV"
   ]
  },
  {
   "cell_type": "code",
   "execution_count": null,
   "id": "40f3b48f",
   "metadata": {},
   "outputs": [],
   "source": [
    "from typing import Tuple"
   ]
  },
  {
   "cell_type": "code",
   "execution_count": null,
   "id": "152369b4",
   "metadata": {},
   "outputs": [],
   "source": [
    "total_orbits = 30  # Total orbits to be completed during each simulation"
   ]
  },
  {
   "cell_type": "code",
   "execution_count": null,
   "id": "1b7a51f8",
   "metadata": {},
   "outputs": [],
   "source": [
    "# We define a function because this makes step 3 easier:\n",
    "def q2_simulate(star_mass=0.1, planet_mass=3e-5, planet_axis=0.1, planet_ecc=0) -> Tuple[np.array, np.array]:\n",
    "    sim = rebound.Simulation()\n",
    "    sim.units = ('yr', 'AU', 'Msun')\n",
    "    sim.add(m=star_mass)  # Central star\n",
    "    sim.add(m=planet_mass, a=planet_axis, e=planet_ecc)  # Planet\n",
    "    \n",
    "    # The orbital period of the planet will be constant since this is a binary system. \n",
    "    # Thus we can use calculate_orbit to determine its period, then run the \n",
    "    # simulation for 30 periods accordingly. \n",
    "    period = (sim.particles[1].calculate_orbit(primary=sim.particles[0])).P\n",
    "    num_timesteps = 6000  # Such that each orbit will have 200 data points\n",
    "\n",
    "    times = np.linspace(0, total_orbits * period, num_timesteps)\n",
    "    \n",
    "    star_x = np.empty(num_timesteps)\n",
    "    star_y = np.empty(num_timesteps)\n",
    "\n",
    "    for timestep in range(num_timesteps):  # add 1 because range excludes endpoint\n",
    "        sim.integrate((timestep * total_orbits * period) / num_timesteps)\n",
    "        star_x[timestep] = sim.particles[0].x\n",
    "        star_y[timestep] = sim.particles[0].y\n",
    "    \n",
    "    star_vx = np.empty(num_timesteps - 1)  # since pointwise vx given by average of two x / interval\n",
    "    interval = (total_orbits * period) / num_timesteps\n",
    "    for i in range(num_timesteps - 1):\n",
    "        star_vx[i] = (star_x[i+1] - star_x[i]) / interval\n",
    "        \n",
    "    return times, star_vx"
   ]
  },
  {
   "cell_type": "code",
   "execution_count": null,
   "id": "b432bb58",
   "metadata": {},
   "outputs": [],
   "source": [
    "times, star_vx = q2_simulate()\n",
    "plt.figure(figsize=(15, 2))\n",
    "plt.plot(times[:-1], star_vx)\n",
    "plt.xlabel(\"Time / yr\")\n",
    "plt.ylabel(\"Radial Velocity / (AU/yr)\")\n",
    "plt.title(\"Radial Velocity of Star over 30 Orbits of Planet\")\n",
    "plt.savefig(\"q2f1.pdf\")\n",
    "plt.show()"
   ]
  },
  {
   "cell_type": "code",
   "execution_count": null,
   "id": "fd03afb6",
   "metadata": {},
   "outputs": [],
   "source": [
    "# First create a range of star masses for each of which the simulation will be rerun\n",
    "min_mass = 0.1\n",
    "max_mass = 0.5\n",
    "interval = 0.1\n",
    "star_masses = np.arange(min_mass, max_mass + interval, interval)\n",
    "\n",
    "plt.figure(figsize=(15, 2))\n",
    "\n",
    "# Add a plot for each mass to the same figure\n",
    "for mass in star_masses:\n",
    "    times, star_vx = q2_simulate(star_mass=mass)\n",
    "    plt.plot(times[:-1], star_vx, label=(\"m = \" + str(round(mass, 1)) + \" Msun\"))\n",
    "\n",
    "plt.legend(loc=\"upper right\", title=\"Stellar Mass\")\n",
    "plt.xlabel(\"Time / yr\")\n",
    "plt.ylabel(\"Radial Velocity / (AU/yr)\")\n",
    "plt.title(\"Radial Velocity of Star with Varying Stellar Masses over Time \") \n",
    "plt.savefig(\"q2f2.pdf\")\n",
    "plt.show()"
   ]
  },
  {
   "cell_type": "code",
   "execution_count": null,
   "id": "460536b5",
   "metadata": {},
   "outputs": [],
   "source": [
    "# Now we vary the mass of the planet using the same strategy\n",
    "# Note by the definition of the simulation function, the mass of the star \n",
    "# remains fixed at 0.1 Msun\n",
    "min_mass = 1e-5\n",
    "max_mass = 5e-5\n",
    "interval = 1e-5\n",
    "planet_masses = np.arange(min_mass, max_mass + interval, interval)\n",
    "\n",
    "plt.figure(figsize=(15, 2))\n",
    "\n",
    "# Add a plot for each mass to the same figure\n",
    "for mass in planet_masses:\n",
    "    times, star_vx = q2_simulate(planet_mass=mass)\n",
    "    plt.plot(times[:-1], star_vx, label=(\"m = \" + str(round(1e5 * mass, 1))))\n",
    "\n",
    "plt.legend(loc=\"upper right\", title=\"Planetary Mass / e-5 Msun\")\n",
    "plt.xlabel(\"Time / yr\")\n",
    "plt.ylabel(\"Radial Velocity / (AU/yr)\")\n",
    "plt.title(\"Radial Velocity of 0.1 Msun Star over Time with Varying Planet Masses\")\n",
    "plt.savefig(\"q2f3.pdf\")\n",
    "plt.show() "
   ]
  },
  {
   "cell_type": "code",
   "execution_count": null,
   "id": "03fb34b1",
   "metadata": {},
   "outputs": [],
   "source": [
    "# Now we vary the semi-major axis of the planet\n",
    "min_axis = 0.06\n",
    "max_axis = 0.14\n",
    "interval = 0.02\n",
    "planet_axes = np.arange(min_axis, max_axis + interval, interval)\n",
    "\n",
    "plt.figure(figsize=(15, 2))\n",
    "\n",
    "# Add a plot for each mass to the same figure\n",
    "for axis in planet_axes:\n",
    "    times, star_vx = q2_simulate(planet_axis=axis)\n",
    "    plt.plot(times[:-1], star_vx, label=(\"a = \" + str(round(axis, 2))))\n",
    "\n",
    "plt.legend(loc=\"upper right\", title=\"Semi-major Axis / AU\")\n",
    "plt.xlabel(\"Time / yr\")\n",
    "plt.ylabel(\"Radial Velocity / (AU/yr)\")\n",
    "plt.title(\"Radial Velocity of 0.1 Msun Star over Time with Varying 10 Mearth Planet Semi-major Axis\") \n",
    "plt.savefig(\"q2f4.pdf\")\n",
    "plt.show()"
   ]
  },
  {
   "cell_type": "code",
   "execution_count": null,
   "id": "48c9e99a",
   "metadata": {},
   "outputs": [],
   "source": [
    "times, star_vx = q2_simulate(planet_ecc = 0.3)\n",
    "plt.figure(figsize=(15, 2))\n",
    "plt.plot(times[:-1], star_vx)\n",
    "plt.xlabel(\"Time / yr\")\n",
    "plt.ylabel(\"Radial Velocity / (AU/yr)\")\n",
    "plt.title(\"Radial Velocity of 0.1 Msun Star over 30 Orbits of 10 Mearth Planet with Eccentricity e = 0.3\")\n",
    "plt.savefig(\"q2f5.pdf\")\n",
    "plt.show()"
   ]
  },
  {
   "cell_type": "code",
   "execution_count": null,
   "id": "36094014",
   "metadata": {},
   "outputs": [],
   "source": [
    "times, star_vx = q2_simulate(planet_ecc = 0.3)\n",
    "plt.figure(figsize=(15, 2))\n",
    "plt.plot(times[:-1] * 365.25, star_vx * (1.496e+13 * 3.17098e-8))\n",
    "plt.xlabel(\"Time / days\")\n",
    "plt.ylabel(\"Radial Velocity / (cm/s)\")\n",
    "plt.title(\"Radial Velocity of 0.1 Msun Star over 30 Orbits of 10 Mearth Planet with Eccentricity e = 0.3\")\n",
    "plt.savefig(\"q2f6.pdf\")\n",
    "plt.show()"
   ]
  },
  {
   "cell_type": "markdown",
   "id": "ad262a56",
   "metadata": {},
   "source": [
    "## 3. Fitting RV Data Using $\\texttt{REBOUND}$ and $\\texttt{emcee}$"
   ]
  },
  {
   "cell_type": "markdown",
   "id": "5858b4d3",
   "metadata": {},
   "source": [
    "### 3.1 Reading the Data"
   ]
  },
  {
   "cell_type": "code",
   "execution_count": null,
   "id": "feccbbb7",
   "metadata": {},
   "outputs": [],
   "source": [
    "data = open(\"data.txt\", 'r')"
   ]
  },
  {
   "cell_type": "code",
   "execution_count": null,
   "id": "f1d9692c",
   "metadata": {},
   "outputs": [],
   "source": [
    "for i in range(6):\n",
    "    temp = data.readline()"
   ]
  },
  {
   "cell_type": "code",
   "execution_count": null,
   "id": "966167f3",
   "metadata": {},
   "outputs": [],
   "source": [
    "num_lines = 122\n",
    "days = np.empty(num_lines)\n",
    "rv = np.empty(num_lines)\n",
    "error = np.empty(num_lines)\n",
    "\n",
    "counter = 0\n",
    "for line in data:\n",
    "    entries = line.split()\n",
    "    days[counter], rv[counter], error[counter] = entries[0], entries[1], entries[2]\n",
    "    counter += 1\n",
    "    \n",
    "data.close()"
   ]
  },
  {
   "cell_type": "code",
   "execution_count": null,
   "id": "9ccfb4f2",
   "metadata": {},
   "outputs": [],
   "source": [
    "plt.figure(figsize=(14, 8))\n",
    "plt.scatter(days, rv)\n",
    "plt.errorbar(days, rv, yerr=error, fmt='none', color='black')\n",
    "plt.xlabel(\"Time / BJD\")\n",
    "plt.ylabel(\"Radial Velocity / (m/s)\")\n",
    "plt.title(\"Measured Radial Velocity of HD155358 over Time\")\n",
    "plt.savefig(\"q3f1.pdf\")\n",
    "plt.show()"
   ]
  },
  {
   "cell_type": "markdown",
   "id": "f04e4231",
   "metadata": {},
   "source": [
    "### 3.2 Testing Synthetic RV"
   ]
  },
  {
   "cell_type": "code",
   "execution_count": null,
   "id": "e1a7893b",
   "metadata": {},
   "outputs": [],
   "source": [
    "sim = rebound.Simulation()\n",
    "sim.units = ('yr', 'AU', 'Msun')\n",
    "sim.add(m=0.92)  # Central star\n",
    "sim.add(m=0.92 / 1047, a=0.641, e=0.17)  # Planet 1\n",
    "sim.add(m=0.85 / 1047, a=1.017, e=0.10)  # Planet 1\n",
    "\n",
    "start_date = 15000\n",
    "num_timesteps = 25000\n",
    "times = np.linspace(start_date / 365.25, num_timesteps / 365.25, num_timesteps - start_date)\n",
    "\n",
    "star_x = np.empty(num_timesteps - start_date)\n",
    "star_y = np.empty(num_timesteps - start_date)\n",
    "\n",
    "for timestep in range(start_date, num_timesteps):\n",
    "    sim.integrate(timestep / 365.25)\n",
    "    star_x[timestep - start_date] = sim.particles[0].x\n",
    "    star_y[timestep - start_date] = sim.particles[0].y\n",
    "\n",
    "star_vx = np.empty(num_timesteps - 1 - start_date)\n",
    "for i in range(num_timesteps - 1 - start_date):\n",
    "    star_vx[i] = (star_x[i+1] - star_x[i]) / (1/365.25)\n",
    "\n",
    "# The below were determined through trial and error, and are not related to the accuracy \n",
    "# of the model since only the period with which the RV changes is significant\n",
    "cutoff = 3800  # Slightly before the first day, in the current times array, where the \n",
    "               # experimental data has a data point\n",
    "day_range = 4000  # The approximate number of days from the cutoff date after which there are\n",
    "             # no more data points\n",
    "offset = 16832  # The offset of the simulation time from the time in the given data\n",
    "    \n",
    "plt.figure(figsize=(15, 4))\n",
    "plt.plot((times[cutoff:cutoff + day_range] * 365.25) - offset, \n",
    "         star_vx[cutoff:cutoff + day_range] * (1.496e+11 * 3.17098e-8))\n",
    "plt.scatter(days, rv, c='black')\n",
    "plt.xlabel(\"Time / BJD\")\n",
    "plt.ylabel(\"Radial Velocity / (m/s)\")\n",
    "plt.title(\"Model vs Measured Radial Velocity of HD155358 over Time\")\n",
    "plt.savefig(\"q3f2.pdf\")\n",
    "plt.show()"
   ]
  },
  {
   "cell_type": "markdown",
   "id": "9a820590",
   "metadata": {},
   "source": [
    "### 3.3 Learning About $\\texttt{emcee}$"
   ]
  },
  {
   "cell_type": "markdown",
   "id": "b7aca1c7",
   "metadata": {},
   "source": [
    "# :("
   ]
  }
 ],
 "metadata": {
  "kernelspec": {
   "display_name": "Python 3 (ipykernel)",
   "language": "python",
   "name": "python3"
  },
  "language_info": {
   "codemirror_mode": {
    "name": "ipython",
    "version": 3
   },
   "file_extension": ".py",
   "mimetype": "text/x-python",
   "name": "python",
   "nbconvert_exporter": "python",
   "pygments_lexer": "ipython3",
   "version": "3.10.2"
  }
 },
 "nbformat": 4,
 "nbformat_minor": 5
}
