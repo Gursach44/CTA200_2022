{
 "cells": [
  {
   "cell_type": "markdown",
   "id": "129e1a53",
   "metadata": {},
   "source": [
    "# Assignment 2\n",
    "May 7, 2022\n",
    "\n",
    "Gurman Sachdeva\n",
    "\n",
    "1007896314"
   ]
  },
  {
   "cell_type": "markdown",
   "id": "0e85f06c",
   "metadata": {},
   "source": [
    "$$\\rule{500 px}{4 px}$$"
   ]
  },
  {
   "cell_type": "markdown",
   "id": "d1cc82cd",
   "metadata": {},
   "source": [
    "We first import modules required for documentation:"
   ]
  },
  {
   "cell_type": "code",
   "execution_count": 19,
   "id": "87efecfe",
   "metadata": {},
   "outputs": [],
   "source": [
    "from typing import Optional"
   ]
  },
  {
   "cell_type": "markdown",
   "id": "d662eae4",
   "metadata": {},
   "source": [
    "We define the function $\\texttt{f}$:"
   ]
  },
  {
   "cell_type": "code",
   "execution_count": 20,
   "id": "69019a72",
   "metadata": {},
   "outputs": [],
   "source": [
    "def f(x: float) -> float:\n",
    "    \"\"\"Return the value of the function f (as given in the\n",
    "    assignment_2 handout) for an input <x>.\n",
    "    \n",
    "    Parameters\n",
    "    ----------\n",
    "    x : float\n",
    "        The input for which the value of f is computed.\n",
    "        \n",
    "    Returns\n",
    "    -------\n",
    "    float:\n",
    "        The value of f for the given input.\n",
    "    \"\"\"\n",
    "    return (x**3) - (x**2) - 1"
   ]
  },
  {
   "cell_type": "markdown",
   "id": "ff3ef309",
   "metadata": {},
   "source": [
    "We then define the function $\\texttt{df}$, with $\\texttt{df}= \\frac{df(x)}{dx} = \\frac{d}{dx}(x^3 - x^2 - 1)$:"
   ]
  },
  {
   "cell_type": "code",
   "execution_count": 21,
   "id": "9a514a7e",
   "metadata": {},
   "outputs": [],
   "source": [
    "def df(x: float) -> float:\n",
    "    \"\"\"Return the value of the derivative of the function \n",
    "    f (as given in the assignment_2 handout) for an input <x>.\n",
    "    \n",
    "    Parameters\n",
    "    ----------\n",
    "    x : float\n",
    "        The input for which the value of df is computed.\n",
    "        \n",
    "    Returns\n",
    "    -------\n",
    "    float:\n",
    "        The value of df for the given input.\n",
    "    \"\"\"\n",
    "    return 3 * (x**2) - (2 * x)"
   ]
  },
  {
   "cell_type": "markdown",
   "id": "21262068",
   "metadata": {},
   "source": [
    "Next we create the function $\\texttt{newton}$:"
   ]
  },
  {
   "cell_type": "code",
   "execution_count": 22,
   "id": "eab9a4b0",
   "metadata": {},
   "outputs": [],
   "source": [
    "def newton(f, df, x0, epsilon=1e-6, max_iter=30) -> Optional[float]:\n",
    "    \"\"\"Return a root of the function f if such a root is found. \n",
    "    Otherwise return None.\n",
    "    \n",
    "    Parameters\n",
    "    ----------\n",
    "    f : function\n",
    "        A function of a single variable.\n",
    "    df : function\n",
    "        The derivative function of f.\n",
    "    x0 : float\n",
    "        The point at which Newton iteration for f begins.\n",
    "    epsilon : float\n",
    "        The value that f(x) must be smaller than for x to be \n",
    "        considered a root.\n",
    "    max_iter : int\n",
    "        The maximum number of Newton iterations allowed.\n",
    "        \n",
    "    Returns\n",
    "    -------\n",
    "    float:\n",
    "        A root of f if such a root is found within max_iter \n",
    "        iterations.\n",
    "    \"\"\"\n",
    "    iteration = 1\n",
    "    x = x0\n",
    "    while iteration <= max_iter and abs(f(x)) >= epsilon:\n",
    "        if df(x) == 0:\n",
    "            print(\"Iteration could not proceed. Try a different x0.\")\n",
    "            return None\n",
    "        x = x - f(x)/df(x)\n",
    "        iteration += 1\n",
    "    if abs(f(x)) < epsilon:\n",
    "        print(\"Found root in \" + str(iteration) + \" iterations.\")\n",
    "        return x\n",
    "    else:\n",
    "        print(\"Iteration failed.\")\n",
    "        return None"
   ]
  },
  {
   "cell_type": "markdown",
   "id": "647f7a9c",
   "metadata": {},
   "source": [
    "Now we test the function $\\texttt{newton}$ with several values for $\\texttt{x0}$, beginning with $\\texttt{x0 = 100}$:"
   ]
  },
  {
   "cell_type": "code",
   "execution_count": 23,
   "id": "37f0196c",
   "metadata": {},
   "outputs": [
    {
     "name": "stdout",
     "output_type": "stream",
     "text": [
      "Found root in 16 iterations.\n",
      "The root is 1.4655712318887797.\n"
     ]
    }
   ],
   "source": [
    "root = newton(f, df, 100)\n",
    "if root is None:\n",
    "    print(\"No root was found.\")\n",
    "else:\n",
    "    print(\"The root is \" + str(root) + \".\")"
   ]
  },
  {
   "cell_type": "markdown",
   "id": "cfdee125",
   "metadata": {},
   "source": [
    "Now with $\\texttt{x0 = -1}$:"
   ]
  },
  {
   "cell_type": "code",
   "execution_count": 24,
   "id": "ed0fabd6",
   "metadata": {},
   "outputs": [
    {
     "name": "stdout",
     "output_type": "stream",
     "text": [
      "Found root in 16 iterations.\n",
      "The root is 1.4655712348572754.\n"
     ]
    }
   ],
   "source": [
    "root = newton(f, df, -1)\n",
    "if root is None:\n",
    "    print(\"No root was found.\")\n",
    "else:\n",
    "    print(\"The root is \" + str(root) + \".\")"
   ]
  },
  {
   "cell_type": "markdown",
   "id": "df0b47fd",
   "metadata": {},
   "source": [
    "Next, we test with $\\texttt{x0 = 0}$:"
   ]
  },
  {
   "cell_type": "code",
   "execution_count": 25,
   "id": "3b42fd59",
   "metadata": {},
   "outputs": [
    {
     "name": "stdout",
     "output_type": "stream",
     "text": [
      "Iteration could not proceed. Try a different x0.\n",
      "No root was found.\n"
     ]
    }
   ],
   "source": [
    "root = newton(f, df, 0)\n",
    "if root is None:\n",
    "    print(\"No root was found.\")\n",
    "else:\n",
    "    print(\"The root is \" + str(root) + \".\")"
   ]
  },
  {
   "cell_type": "markdown",
   "id": "f4283751",
   "metadata": {},
   "source": [
    "The derivative of $\\texttt{f}$ at this value of $\\texttt{x0}$ is zero, so to prevent dividing by zero, the function asks for a different input of x0."
   ]
  },
  {
   "cell_type": "markdown",
   "id": "8bedc45b",
   "metadata": {},
   "source": [
    "We now test $\\texttt{newton}$ with the same values of $\\texttt{x0}$ as above, but setting the error $\\texttt{epsilon = 1e-8}$:"
   ]
  },
  {
   "cell_type": "code",
   "execution_count": 26,
   "id": "8af21567",
   "metadata": {},
   "outputs": [
    {
     "name": "stdout",
     "output_type": "stream",
     "text": [
      "Found root in 16 iterations.\n",
      "The root is 1.4655712318887797.\n"
     ]
    }
   ],
   "source": [
    "root = newton(f, df, 100, epsilon=1e-8)\n",
    "if root is None:\n",
    "    print(\"No root was found.\")\n",
    "else:\n",
    "    print(\"The root is \" + str(root) + \".\")"
   ]
  },
  {
   "cell_type": "markdown",
   "id": "77fca909",
   "metadata": {},
   "source": [
    "which took the same number of iterations as above;"
   ]
  },
  {
   "cell_type": "code",
   "execution_count": 27,
   "id": "4e5995b9",
   "metadata": {},
   "outputs": [
    {
     "name": "stdout",
     "output_type": "stream",
     "text": [
      "Found root in 17 iterations.\n",
      "The root is 1.465571231876768.\n"
     ]
    }
   ],
   "source": [
    "root = newton(f, df, -1, epsilon=1e-8)\n",
    "if root is None:\n",
    "    print(\"No root was found.\")\n",
    "else:\n",
    "    print(\"The root is \" + str(root) + \".\")"
   ]
  },
  {
   "cell_type": "markdown",
   "id": "ff692582",
   "metadata": {},
   "source": [
    "which took one more iteration."
   ]
  },
  {
   "cell_type": "code",
   "execution_count": null,
   "id": "47c931bd",
   "metadata": {},
   "outputs": [],
   "source": []
  }
 ],
 "metadata": {
  "kernelspec": {
   "display_name": "Python 3 (ipykernel)",
   "language": "python",
   "name": "python3"
  },
  "language_info": {
   "codemirror_mode": {
    "name": "ipython",
    "version": 3
   },
   "file_extension": ".py",
   "mimetype": "text/x-python",
   "name": "python",
   "nbconvert_exporter": "python",
   "pygments_lexer": "ipython3",
   "version": "3.10.2"
  }
 },
 "nbformat": 4,
 "nbformat_minor": 5
}
