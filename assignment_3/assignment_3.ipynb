{
 "cells": [
  {
   "cell_type": "markdown",
   "id": "16a24b47",
   "metadata": {},
   "source": [
    "# Assignment 3\n",
    "May 10, 2022\n",
    "\n",
    "Gurman Sachdeva\n",
    "\n",
    "1007896314"
   ]
  },
  {
   "cell_type": "markdown",
   "id": "e71b673c",
   "metadata": {},
   "source": [
    "$$\\rule{500 px}{4 px}$$"
   ]
  },
  {
   "cell_type": "markdown",
   "id": "892b1c4a",
   "metadata": {},
   "source": [
    "## Question 1"
   ]
  },
  {
   "cell_type": "markdown",
   "id": "2373f724",
   "metadata": {},
   "source": [
    "First, we import the required libraries, and the module containing the iteration function:"
   ]
  },
  {
   "cell_type": "code",
   "execution_count": null,
   "id": "92eec9b6",
   "metadata": {
    "scrolled": true
   },
   "outputs": [],
   "source": [
    "import numpy as np\n",
    "import matplotlib.pyplot as plt\n",
    "from iterator import iterator"
   ]
  },
  {
   "cell_type": "markdown",
   "id": "a28476e6",
   "metadata": {},
   "source": [
    "Next, we create two parallel meshgrids (treating them as 2d arrays). The 'top' grid \n",
    "acts as the complex plane, with each point's real and imaginary parts lying on the \n",
    "two axes of the grid. The second grid is used to store whether each point on that\n",
    "complex plane converges or diverges, and how long it takes to diverge."
   ]
  },
  {
   "cell_type": "code",
   "execution_count": null,
   "id": "e000e61c",
   "metadata": {},
   "outputs": [],
   "source": [
    "real = np.linspace(-2, 2, 500)\n",
    "imaginary = np.linspace(-2, 2, 500)\n",
    "\n",
    "REAL, IMAGINARY = np.meshgrid(real, imaginary, indexing='xy')\n",
    "DIVERGES, DIVERGENCE = np.meshgrid(real, imaginary, indexing='ij')"
   ]
  },
  {
   "cell_type": "markdown",
   "id": "596a03de",
   "metadata": {},
   "source": [
    "Now, the iteration function is called on every point in our complex plane. This updates corresponding values in the copy of the complex plane indicating the convergence/divergence of that point through iteration."
   ]
  },
  {
   "cell_type": "code",
   "execution_count": null,
   "id": "f8e1cff8",
   "metadata": {},
   "outputs": [],
   "source": [
    "for i in range(REAL.shape[0]):\n",
    "    for j in range(IMAGINARY.shape[0]):\n",
    "        DIVERGES[i, j], DIVERGENCE[i, j] = iterator.iterate(REAL[i, j], IMAGINARY[i, j])"
   ]
  },
  {
   "cell_type": "markdown",
   "id": "578beaba",
   "metadata": {},
   "source": [
    "Now we create the first plot, only showing whether each point converges. A legend is used rather than a colour bar since there are only two colours, which was largely inspired by the following post:\n",
    "https://stackoverflow.com/questions/10490302/how-do-you-create-a-legend-for-a-contour-plot-in-matplotlib"
   ]
  },
  {
   "cell_type": "code",
   "execution_count": null,
   "id": "c4193958",
   "metadata": {},
   "outputs": [],
   "source": [
    "plt.figure(dpi=600)\n",
    "temp = plt.contourf(real, imaginary, DIVERGES, levels=2)\n",
    "proxy = [plt.Rectangle((0,0),1,1,fc = pc.get_facecolor()[0]) \n",
    "         for pc in temp.collections]\n",
    "plt.legend(proxy, [\"Converges\", \"Diverges\"])\n",
    "plt.xlabel(\"Real Part\")\n",
    "plt.ylabel(\"Imaginary Part\")\n",
    "plt.show()"
   ]
  },
  {
   "cell_type": "markdown",
   "id": "a7d82302",
   "metadata": {},
   "source": [
    "Now we create the second plot. Note that the darkest colour indicates '0 iterations were taken to diverge', which here actually means the point converges."
   ]
  },
  {
   "cell_type": "code",
   "execution_count": null,
   "id": "58fbb6a2",
   "metadata": {},
   "outputs": [],
   "source": [
    "plt.figure(dpi=600)\n",
    "plt.contourf(real, imaginary, DIVERGENCE, levels=50)\n",
    "plt.colorbar(label=\"# Iterations to divergence (0 indicates convergence)\")\n",
    "plt.xlabel(\"Real Part\")\n",
    "plt.ylabel(\"Imaginary Part\")\n",
    "plt.show()"
   ]
  },
  {
   "cell_type": "markdown",
   "id": "6c87b789",
   "metadata": {},
   "source": [
    "## Question 2"
   ]
  },
  {
   "cell_type": "markdown",
   "id": "4e811e73",
   "metadata": {},
   "source": [
    "We import one more required module:"
   ]
  },
  {
   "cell_type": "code",
   "execution_count": null,
   "id": "24397e40",
   "metadata": {},
   "outputs": [],
   "source": [
    "from scipy.integrate import solve_ivp"
   ]
  },
  {
   "cell_type": "markdown",
   "id": "668ba40a",
   "metadata": {},
   "source": [
    "Now we initialize the constants and initial conditions used in the Lorenz equations:"
   ]
  },
  {
   "cell_type": "code",
   "execution_count": null,
   "id": "5c8dd837",
   "metadata": {},
   "outputs": [],
   "source": [
    "# initializing parameters\n",
    "sigma = 10.\n",
    "r = 28.\n",
    "b = 8./3.\n",
    "\n",
    "W0 = np.array([0., 1., 0.])  # The initial conditions for the first integration"
   ]
  },
  {
   "cell_type": "markdown",
   "id": "dcbcec35",
   "metadata": {},
   "source": [
    "Next we define the function representing the system of differential equations of X, Y, and Z:"
   ]
  },
  {
   "cell_type": "code",
   "execution_count": null,
   "id": "d686c59d",
   "metadata": {},
   "outputs": [],
   "source": [
    "def fn_system(t: float, state: np.array) -> np.array:\n",
    "    \"\"\"The system of Lorenz differential equations.\n",
    "    \n",
    "    Return the value of X', Y', Z' per the Lorenz equations at time <t>.\n",
    "    \n",
    "    Parameters\n",
    "    ----------\n",
    "    t : float\n",
    "        The time at which the system is being evaluated.\n",
    "    \n",
    "    state : array\n",
    "        Stores the current values of the parameters X, Y, Z in the equations.\n",
    "        \n",
    "    Returns\n",
    "    -------\n",
    "    np.array:\n",
    "        An array containing the values of X', Y', Z' at the input time.\n",
    "    \"\"\"\n",
    "    X = state[0]\n",
    "    Y = state[1]\n",
    "    Z = state[2]\n",
    "    \n",
    "    X_prime = -sigma * (X - Y)\n",
    "    Y_prime = (r * X) - Y - (X * Z)\n",
    "    Z_prime = (-b * Z) + (X * Y)\n",
    "    \n",
    "    return np.array([X_prime, Y_prime, Z_prime])"
   ]
  },
  {
   "cell_type": "markdown",
   "id": "67ea27ff",
   "metadata": {},
   "source": [
    "Now we set our range of times and solve the system in all variables over this range:"
   ]
  },
  {
   "cell_type": "code",
   "execution_count": null,
   "id": "ef07e73b",
   "metadata": {},
   "outputs": [],
   "source": [
    "times = np.linspace(0, 60, 6000)\n",
    "result = solve_ivp(fn_system, np.array([0, 60]), W0, t_eval=times)\n",
    "t = result.t / 0.01\n",
    "X = result.y[0]\n",
    "Y = result.y[1]\n",
    "Z = result.y[2]"
   ]
  },
  {
   "cell_type": "markdown",
   "id": "308cc991",
   "metadata": {},
   "source": [
    "Shown below is the plot corresponding to Figure 1 in Lorenz' paper, the evolution of Y with time:"
   ]
  },
  {
   "cell_type": "code",
   "execution_count": null,
   "id": "999f67fe",
   "metadata": {},
   "outputs": [],
   "source": [
    "plt.figure(figsize=(15, 3))\n",
    "plt.plot(t, Y)\n",
    "plt.xlabel(\"Timestep (dimensionless) t/dt\")\n",
    "plt.ylabel(\"Y\")\n",
    "plt.title(\"Evolution of Y with time\")\n",
    "plt.show()"
   ]
  },
  {
   "cell_type": "markdown",
   "id": "6ede314f",
   "metadata": {},
   "source": [
    "We then render the plot corresponding to figure 2 in Lorenz' paper, with plots of Z vs Y and X vs Y:"
   ]
  },
  {
   "cell_type": "code",
   "execution_count": null,
   "id": "1c28a504",
   "metadata": {},
   "outputs": [],
   "source": [
    "plt.figure()\n",
    "plt.plot(Y, Z)\n",
    "plt.xlabel(\"Y\")\n",
    "plt.ylabel(\"Z\")\n",
    "plt.title(\"Z w.r.t. Y\")\n",
    "plt.show()\n",
    "\n",
    "plt.figure()\n",
    "plt.plot(Y, X)\n",
    "plt.xlabel(\"Y\")\n",
    "plt.ylabel(\"X\")\n",
    "plt.title(\"X w.r.t. Y\")\n",
    "plt.show()"
   ]
  },
  {
   "cell_type": "markdown",
   "id": "1009846f",
   "metadata": {},
   "source": [
    "We now find another solution for the same system with very slightly different initial conditions, W', represented as `W_new`:"
   ]
  },
  {
   "cell_type": "code",
   "execution_count": null,
   "id": "5fe6f060",
   "metadata": {},
   "outputs": [],
   "source": [
    "W_new = np.array([0., 1.00000001, 0.])\n",
    "result_new = solve_ivp(fn_system, np.array([0, 60]), W_new, t_eval=times)\n",
    "X_new = result_new.y[0]\n",
    "Y_new = result_new.y[1]\n",
    "Z_new = result_new.y[2]"
   ]
  },
  {
   "cell_type": "markdown",
   "id": "4da77dc0",
   "metadata": {},
   "source": [
    "Now we can compute the difference between `X` and `X_new`, `Y` and `Y_new`, and `Z` and `Z_new` (simply by subtracting their arrays since both are ordered by time). We take absolute values since we require a measure of distance between `W` and `W_new` w.r.t time."
   ]
  },
  {
   "cell_type": "code",
   "execution_count": null,
   "id": "8cf358db",
   "metadata": {},
   "outputs": [],
   "source": [
    "X_diff = abs(X - X_new)\n",
    "Y_diff = abs(Y - Y_new)\n",
    "Z_diff = abs(Z - Z_new)\n",
    "W_diff = X_diff + Y_diff + Z_diff"
   ]
  },
  {
   "cell_type": "markdown",
   "id": "d3e3a6d5",
   "metadata": {},
   "source": [
    "We can now plot the difference between W and W' w.r.t. time:"
   ]
  },
  {
   "cell_type": "code",
   "execution_count": null,
   "id": "04dd3572",
   "metadata": {},
   "outputs": [],
   "source": [
    "plt.figure(figsize=(15, 3))\n",
    "plt.plot(t, W_diff)\n",
    "plt.xlabel(\"Timestep (dimensionless) t/dt\")\n",
    "plt.ylabel(\"Difference between W and W'\")\n",
    "plt.yscale(\"log\")\n",
    "plt.title(\"Separation between states of two systems with different initial conditions, w.r.t time\")\n",
    "plt.show()"
   ]
  },
  {
   "cell_type": "markdown",
   "id": "3b1847df",
   "metadata": {},
   "source": [
    "We observe that the graph contains three distinguishable regions with different growth characteristics, all of which appear roughly linear; since the y-axis is logarithmic, this indicates that the two states diverge exponentially. We also observe that the growth seems to stagnate in the third region, at around the 3700th timestep. This is likely due to the two states already being the furthest (or nearly the furthest) possible distance from each other in phase space."
   ]
  },
  {
   "cell_type": "code",
   "execution_count": null,
   "id": "6c878d23",
   "metadata": {},
   "outputs": [],
   "source": []
  }
 ],
 "metadata": {
  "kernelspec": {
   "display_name": "Python 3 (ipykernel)",
   "language": "python",
   "name": "python3"
  },
  "language_info": {
   "codemirror_mode": {
    "name": "ipython",
    "version": 3
   },
   "file_extension": ".py",
   "mimetype": "text/x-python",
   "name": "python",
   "nbconvert_exporter": "python",
   "pygments_lexer": "ipython3",
   "version": "3.10.2"
  }
 },
 "nbformat": 4,
 "nbformat_minor": 5
}
